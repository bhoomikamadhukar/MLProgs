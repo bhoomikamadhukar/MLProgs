{
 "cells": [
  {
   "cell_type": "code",
   "execution_count": 1,
   "metadata": {},
   "outputs": [],
   "source": [
    "import pandas as pd\n",
    "import numpy as np\n",
    "from sklearn import datasets\n",
    "from sklearn.model_selection import train_test_split\n",
    "from sklearn.neighbors import KNeighborsClassifier\n",
    "from sklearn.metrics import confusion_matrix,classification_report"
   ]
  },
  {
   "cell_type": "code",
   "execution_count": 8,
   "metadata": {},
   "outputs": [
    {
     "name": "stdout",
     "output_type": "stream",
     "text": [
      "confusion matrix\n",
      "[[16  0  0]\n",
      " [ 0 11  0]\n",
      " [ 0  1 10]]\n",
      "accuracy\n",
      "             precision    recall  f1-score   support\n",
      "\n",
      "          0       1.00      1.00      1.00        16\n",
      "          1       0.92      1.00      0.96        11\n",
      "          2       1.00      0.91      0.95        11\n",
      "\n",
      "avg / total       0.98      0.97      0.97        38\n",
      "\n"
     ]
    }
   ],
   "source": [
    "iris=datasets.load_iris()\n",
    "iris_data=iris.data\n",
    "iris_label=iris.target\n",
    "xtrain,xtest,ytrain,ytest=train_test_split(iris_data,iris_label)\n",
    "classifier=KNeighborsClassifier(n_neighbors=5)\n",
    "classifier.fit(xtrain,ytrain)\n",
    "y_pred=classifier.predict(xtest)\n",
    "print('confusion matrix')\n",
    "print(confusion_matrix(ytest,y_pred))\n",
    "print('accuracy')\n",
    "print(classification_report(ytest,y_pred))\n"
   ]
  },
  {
   "cell_type": "code",
   "execution_count": null,
   "metadata": {},
   "outputs": [],
   "source": [
    "n"
   ]
  }
 ],
 "metadata": {
  "kernelspec": {
   "display_name": "Python 3",
   "language": "python",
   "name": "python3"
  },
  "language_info": {
   "codemirror_mode": {
    "name": "ipython",
    "version": 3
   },
   "file_extension": ".py",
   "mimetype": "text/x-python",
   "name": "python",
   "nbconvert_exporter": "python",
   "pygments_lexer": "ipython3",
   "version": "3.6.5"
  }
 },
 "nbformat": 4,
 "nbformat_minor": 2
}
